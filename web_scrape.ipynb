{
 "cells": [
  {
   "cell_type": "code",
   "execution_count": 4,
   "metadata": {},
   "outputs": [],
   "source": [
    "import selenium\n",
    "from selenium import webdriver\n",
    "from selenium.webdriver.common.by import By\n",
    "from selenium.webdriver.chrome.service import Service\n",
    "from selenium.webdriver.common.keys import Keys\n",
    "from selenium.webdriver.chrome.options import Options\n",
    "from selenium.webdriver.support.ui import WebDriverWait\n",
    "from selenium.webdriver.support import expected_conditions as EC\n",
    "import time\n",
    "import csv\n",
    "import re"
   ]
  },
  {
   "cell_type": "markdown",
   "metadata": {},
   "source": [
    "## Webscraping custom fragrances: Data Exploration and Personal Interest"
   ]
  },
  {
   "cell_type": "code",
   "execution_count": 5,
   "metadata": {},
   "outputs": [],
   "source": [
    "def scrape_perfume_data(perfume_url):\n",
    "    # setup driver\n",
    "    service = Service()\n",
    "    options = Options()\n",
    "    driver = webdriver.Chrome(service=service, options=options)\n",
    "    driver.command_executor.set_timeout(1000)\n",
    "\n",
    "    try:\n",
    "        driver.get(perfume_url)\n",
    "        time.sleep(3)\n",
    "\n",
    "        # perfume name\n",
    "        name_element = driver.find_element(By.CSS_SELECTOR, 'h1[itemprop=\"name\"]')\n",
    "        name = name_element.text.strip().lower()\n",
    "        name = name.replace(\" le labo\", \"\").replace(\" for women and men\", \"\").replace(\" \", \"-\")\n",
    "\n",
    "        # gender\n",
    "        gender = driver.find_element(By.CSS_SELECTOR, 'h1[itemprop=\"name\"] small').text.strip().lower()\n",
    "\n",
    "        # ratings\n",
    "        rating_value = driver.find_element(By.CSS_SELECTOR, 'span[itemprop=\"ratingValue\"]').text.strip()\n",
    "        rating_count = driver.find_element(By.CSS_SELECTOR, 'span[itemprop=\"ratingCount\"]').text.strip()\n",
    "\n",
    "        # notes loop\n",
    "        xpath = '//*[@id=\"pyramid\"]/div[1]/div/div[2]/div[3]/div/div[{}]/div[2]'\n",
    "        idx, max_tries, notes = 1, 14, []\n",
    "        while idx <= max_tries:\n",
    "            try:\n",
    "                note_elements = WebDriverWait(driver, 10).until(\n",
    "                    EC.presence_of_all_elements_located((By.XPATH, xpath.format(idx))))\n",
    "                notes += [el.text.strip().lower() for el in note_elements]\n",
    "                idx += 1\n",
    "            except:\n",
    "                break\n",
    "\n",
    "        # launch year\n",
    "        description_text = driver.find_element(By.CSS_SELECTOR, 'div[itemprop=\"description\"] p').text\n",
    "        match = re.search(r'was launched in (\\d{4})', description_text)\n",
    "        launch_year = match.group(1) if match else \"Unknown\"\n",
    "\n",
    "        # accords\n",
    "        accord_elements = driver.find_elements(By.CSS_SELECTOR, 'div.accord-bar')\n",
    "        accords = [a.text.strip().lower() for a in accord_elements]\n",
    "        # fill with unknown if less than 4\n",
    "        mainaccords = accords + [\"Unknown\"] * (4 - len(accords))  \n",
    "\n",
    "        # print\n",
    "        print(f\"Name: {name}\")\n",
    "        print(f\"Gender: {gender}\")\n",
    "        print(f\"Rating Value: {rating_value}\")\n",
    "        print(f\"Rating Count: {rating_count}\")\n",
    "        print(f\"Launch Year: {launch_year}\")\n",
    "        print(f\"Notes: {notes}\")\n",
    "        print(f\"Main Accords: {mainaccords[:4]}\")\n",
    "\n",
    "        # add to csv\n",
    "        with open('le_labo_perfumes.csv', mode='a', newline='', encoding='utf-8') as file:\n",
    "            writer = csv.writer(file)\n",
    "            writer.writerow([\n",
    "                name, gender, rating_value, rating_count, launch_year,\n",
    "                notes, mainaccords[0], mainaccords[1], mainaccords[2], mainaccords[3]\n",
    "            ])\n",
    "\n",
    "    except Exception as e:\n",
    "        print(f\"Error extracting data: {e}\")\n",
    "\n",
    "    driver.quit()"
   ]
  },
  {
   "cell_type": "code",
   "execution_count": 6,
   "metadata": {},
   "outputs": [],
   "source": [
    "# scrape_perfume_data(\"https://www.fragrantica.com/perfume/Le-Labo/Vetiver-46-6328.html\")"
   ]
  }
 ],
 "metadata": {
  "kernelspec": {
   "display_name": "conda25",
   "language": "python",
   "name": "python3"
  },
  "language_info": {
   "codemirror_mode": {
    "name": "ipython",
    "version": 3
   },
   "file_extension": ".py",
   "mimetype": "text/x-python",
   "name": "python",
   "nbconvert_exporter": "python",
   "pygments_lexer": "ipython3",
   "version": "3.11.11"
  }
 },
 "nbformat": 4,
 "nbformat_minor": 2
}
